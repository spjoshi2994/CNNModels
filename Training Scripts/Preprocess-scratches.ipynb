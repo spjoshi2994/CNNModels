{
 "cells": [
  {
   "cell_type": "markdown",
   "metadata": {},
   "source": [
    "# Preprocessing of Scratches\n",
    "## Patch Extraction"
   ]
  },
  {
   "cell_type": "code",
   "execution_count": 2,
   "metadata": {},
   "outputs": [],
   "source": [
    "import numpy as np\n",
    "from skimage import io\n",
    "import cv2 as cv \n",
    "from glob import glob\n",
    "import re\n",
    "import random\n",
    "import os\n",
    "def pad_input(input_img,patch_size=[512,512]):\n",
    "    h = input_img.shape[0]\n",
    "    w = input_img.shape[1]\n",
    "    hMod = h % patch_size[0]\n",
    "    wMod = w % patch_size[1]\n",
    "    hPad = 0\n",
    "    wPad = 0\n",
    "    if(hMod!=0 or wMod!=0):\n",
    "        hPad = patch_size[0]-hMod\n",
    "        wPad = patch_size[1]-wMod\n",
    "    output = np.pad(input_img, ((0, hPad),(0,wPad)), 'constant')\n",
    "    return(output)"
   ]
  },
  {
   "cell_type": "code",
   "execution_count": 3,
   "metadata": {},
   "outputs": [
    {
     "name": "stdout",
     "output_type": "stream",
     "text": [
      "549\n"
     ]
    }
   ],
   "source": [
    "path = glob('/home/ubuntu/DeepMobile/data/inputScratches/**_mask**')\n",
    "print((len(path)))"
   ]
  },
  {
   "cell_type": "code",
   "execution_count": 4,
   "metadata": {
    "scrolled": true
   },
   "outputs": [
    {
     "name": "stdout",
     "output_type": "stream",
     "text": [
      "['/home/ubuntu/DeepMobile/data/inputScratches/5412104278_336dacb68c.jpg', '/home/ubuntu/DeepMobile/data/inputScratches/525.png', '/home/ubuntu/DeepMobile/data/inputScratches/425.png', '/home/ubuntu/DeepMobile/data/inputScratches/622.png', '/home/ubuntu/DeepMobile/data/inputScratches/224.png', '/home/ubuntu/DeepMobile/data/inputScratches/iPhone-6-Plus.jpg', '/home/ubuntu/DeepMobile/data/inputScratches/327.png', '/home/ubuntu/DeepMobile/data/inputScratches/cracked-shattered-destroyed-iphone6s-screen-hero.jpg', '/home/ubuntu/DeepMobile/data/inputScratches/120.png', '/home/ubuntu/DeepMobile/data/inputScratches/134.png', '/home/ubuntu/DeepMobile/data/inputScratches/358.png', '/home/ubuntu/DeepMobile/data/inputScratches/161.png', '/home/ubuntu/DeepMobile/data/inputScratches/24.png', '/home/ubuntu/DeepMobile/data/inputScratches/170602084423_1_900x600.jpg', '/home/ubuntu/DeepMobile/data/inputScratches/515.png', '/home/ubuntu/DeepMobile/data/inputScratches/418.png', '/home/ubuntu/DeepMobile/data/inputScratches/556.png', '/home/ubuntu/DeepMobile/data/inputScratches/208.png', '/home/ubuntu/DeepMobile/data/inputScratches/204.png', '/home/ubuntu/DeepMobile/data/inputScratches/335.png', '/home/ubuntu/DeepMobile/data/inputScratches/61.png', '/home/ubuntu/DeepMobile/data/inputScratches/345.png', '/home/ubuntu/DeepMobile/data/inputScratches/370.png', '/home/ubuntu/DeepMobile/data/inputScratches/586.png', '/home/ubuntu/DeepMobile/data/inputScratches/540.png', '/home/ubuntu/DeepMobile/data/inputScratches/400.png', '/home/ubuntu/DeepMobile/data/inputScratches/266.png', '/home/ubuntu/DeepMobile/data/inputScratches/4.jpg', '/home/ubuntu/DeepMobile/data/inputScratches/447.png', '/home/ubuntu/DeepMobile/data/inputScratches/181.png', '/home/ubuntu/DeepMobile/data/inputScratches/529.png', '/home/ubuntu/DeepMobile/data/inputScratches/498.png', '/home/ubuntu/DeepMobile/data/inputScratches/428.png', '/home/ubuntu/DeepMobile/data/inputScratches/46.png', '/home/ubuntu/DeepMobile/data/inputScratches/45.png', '/home/ubuntu/DeepMobile/data/inputScratches/531.png', '/home/ubuntu/DeepMobile/data/inputScratches/371.png', '/home/ubuntu/DeepMobile/data/inputScratches/346.png', '/home/ubuntu/DeepMobile/data/inputScratches/236.png', '/home/ubuntu/DeepMobile/data/inputScratches/617.png', '/home/ubuntu/DeepMobile/data/inputScratches/207.png', '/home/ubuntu/DeepMobile/data/inputScratches/239.png', '/home/ubuntu/DeepMobile/data/inputScratches/456.png', '/home/ubuntu/DeepMobile/data/inputScratches/8cf74efa71d442ebb7b50a17aaae04a4.jpg', '/home/ubuntu/DeepMobile/data/inputScratches/380.png', '/home/ubuntu/DeepMobile/data/inputScratches/274.png', '/home/ubuntu/DeepMobile/data/inputScratches/116.png', '/home/ubuntu/DeepMobile/data/inputScratches/64.png', '/home/ubuntu/DeepMobile/data/inputScratches/440.png', '/home/ubuntu/DeepMobile/data/inputScratches/362.png', '/home/ubuntu/DeepMobile/data/inputScratches/244.png', '/home/ubuntu/DeepMobile/data/inputScratches/261.png', '/home/ubuntu/DeepMobile/data/inputScratches/443.png', '/home/ubuntu/DeepMobile/data/inputScratches/6_Ih6F3SPujt.jpg', '/home/ubuntu/DeepMobile/data/inputScratches/378.png', '/home/ubuntu/DeepMobile/data/inputScratches/580.png', '/home/ubuntu/DeepMobile/data/inputScratches/kd3TRya.jpg', '/home/ubuntu/DeepMobile/data/inputScratches/437.png', '/home/ubuntu/DeepMobile/data/inputScratches/610.png', '/home/ubuntu/DeepMobile/data/inputScratches/96.png', '/home/ubuntu/DeepMobile/data/inputScratches/325.png', '/home/ubuntu/DeepMobile/data/inputScratches/2.jpg', '/home/ubuntu/DeepMobile/data/inputScratches/144.png', '/home/ubuntu/DeepMobile/data/inputScratches/IMG_3933 (1024x672).jpg', '/home/ubuntu/DeepMobile/data/inputScratches/292.png', '/home/ubuntu/DeepMobile/data/inputScratches/598.png', '/home/ubuntu/DeepMobile/data/inputScratches/screen-scratch.jpg', '/home/ubuntu/DeepMobile/data/inputScratches/175.png', '/home/ubuntu/DeepMobile/data/inputScratches/cracked-iphone-4S1.jpeg', '/home/ubuntu/DeepMobile/data/inputScratches/96819922440192bff41f6ab8b0889500.jpg', '/home/ubuntu/DeepMobile/data/inputScratches/58.png', '/home/ubuntu/DeepMobile/data/inputScratches/392.png', '/home/ubuntu/DeepMobile/data/inputScratches/247.png', '/home/ubuntu/DeepMobile/data/inputScratches/153.png', '/home/ubuntu/DeepMobile/data/inputScratches/AA40002362_281.jpg', '/home/ubuntu/DeepMobile/data/inputScratches/109.png', '/home/ubuntu/DeepMobile/data/inputScratches/313.png', '/home/ubuntu/DeepMobile/data/inputScratches/288.png', '/home/ubuntu/DeepMobile/data/inputScratches/342.png', '/home/ubuntu/DeepMobile/data/inputScratches/256.png', '/home/ubuntu/DeepMobile/data/inputScratches/488.png', '/home/ubuntu/DeepMobile/data/inputScratches/222.png', '/home/ubuntu/DeepMobile/data/inputScratches/99.png', '/home/ubuntu/DeepMobile/data/inputScratches/285.png', '/home/ubuntu/DeepMobile/data/inputScratches/113.png', '/home/ubuntu/DeepMobile/data/inputScratches/349.png', '/home/ubuntu/DeepMobile/data/inputScratches/121.png', '/home/ubuntu/DeepMobile/data/inputScratches/1943845_img20141215104758_jpegf364fbb603fee1c1e58eecd27f141dbc.jpeg', '/home/ubuntu/DeepMobile/data/inputScratches/663.png', '/home/ubuntu/DeepMobile/data/inputScratches/82.png', '/home/ubuntu/DeepMobile/data/inputScratches/194.png', '/home/ubuntu/DeepMobile/data/inputScratches/609.png', '/home/ubuntu/DeepMobile/data/inputScratches/592.png', '/home/ubuntu/DeepMobile/data/inputScratches/420.png', '/home/ubuntu/DeepMobile/data/inputScratches/50.png', '/home/ubuntu/DeepMobile/data/inputScratches/534.png', '/home/ubuntu/DeepMobile/data/inputScratches/581.png', '/home/ubuntu/DeepMobile/data/inputScratches/66.png', '/home/ubuntu/DeepMobile/data/inputScratches/69.png', '/home/ubuntu/DeepMobile/data/inputScratches/366.png', '/home/ubuntu/DeepMobile/data/inputScratches/446.png', '/home/ubuntu/DeepMobile/data/inputScratches/467.png', '/home/ubuntu/DeepMobile/data/inputScratches/558.png', '/home/ubuntu/DeepMobile/data/inputScratches/495.png', '/home/ubuntu/DeepMobile/data/inputScratches/258.png', '/home/ubuntu/DeepMobile/data/inputScratches/381.png', '/home/ubuntu/DeepMobile/data/inputScratches/IMG_1398.jpg', '/home/ubuntu/DeepMobile/data/inputScratches/105.png', '/home/ubuntu/DeepMobile/data/inputScratches/253.png', '/home/ubuntu/DeepMobile/data/inputScratches/13.png', '/home/ubuntu/DeepMobile/data/inputScratches/582.png', '/home/ubuntu/DeepMobile/data/inputScratches/321.png', '/home/ubuntu/DeepMobile/data/inputScratches/110.png', '/home/ubuntu/DeepMobile/data/inputScratches/255.png', '/home/ubuntu/DeepMobile/data/inputScratches/197.png', '/home/ubuntu/DeepMobile/data/inputScratches/403.png', '/home/ubuntu/DeepMobile/data/inputScratches/567.png', '/home/ubuntu/DeepMobile/data/inputScratches/102.png', '/home/ubuntu/DeepMobile/data/inputScratches/142.png', '/home/ubuntu/DeepMobile/data/inputScratches/424.png', '/home/ubuntu/DeepMobile/data/inputScratches/355.png', '/home/ubuntu/DeepMobile/data/inputScratches/410.png', '/home/ubuntu/DeepMobile/data/inputScratches/3.jpg', '/home/ubuntu/DeepMobile/data/inputScratches/539.png', '/home/ubuntu/DeepMobile/data/inputScratches/95.png', '/home/ubuntu/DeepMobile/data/inputScratches/427.png', '/home/ubuntu/DeepMobile/data/inputScratches/489.png', '/home/ubuntu/DeepMobile/data/inputScratches/Cracked_Windows_Phone.jpg', '/home/ubuntu/DeepMobile/data/inputScratches/570.png', '/home/ubuntu/DeepMobile/data/inputScratches/637.png', '/home/ubuntu/DeepMobile/data/inputScratches/451.png', '/home/ubuntu/DeepMobile/data/inputScratches/614.png', '/home/ubuntu/DeepMobile/data/inputScratches/137.png', '/home/ubuntu/DeepMobile/data/inputScratches/98.png', '/home/ubuntu/DeepMobile/data/inputScratches/658.png', '/home/ubuntu/DeepMobile/data/inputScratches/298.png', '/home/ubuntu/DeepMobile/data/inputScratches/336.png', '/home/ubuntu/DeepMobile/data/inputScratches/157.png', '/home/ubuntu/DeepMobile/data/inputScratches/293.png', '/home/ubuntu/DeepMobile/data/inputScratches/22041442999038.jpg', '/home/ubuntu/DeepMobile/data/inputScratches/511.png', '/home/ubuntu/DeepMobile/data/inputScratches/251.png', '/home/ubuntu/DeepMobile/data/inputScratches/86.png', '/home/ubuntu/DeepMobile/data/inputScratches/203.png', '/home/ubuntu/DeepMobile/data/inputScratches/cracked-iphone-4S1.jpg', '/home/ubuntu/DeepMobile/data/inputScratches/e14b0ccef6696aaf60a8116e34208d2f.jpg', '/home/ubuntu/DeepMobile/data/inputScratches/maxresdefault (1).jpg', '/home/ubuntu/DeepMobile/data/inputScratches/365.png', '/home/ubuntu/DeepMobile/data/inputScratches/94.png', '/home/ubuntu/DeepMobile/data/inputScratches/100.png', '/home/ubuntu/DeepMobile/data/inputScratches/384.png', '/home/ubuntu/DeepMobile/data/inputScratches/108.png', '/home/ubuntu/DeepMobile/data/inputScratches/438.png', '/home/ubuntu/DeepMobile/data/inputScratches/thumb-1920-687706.jpg', '/home/ubuntu/DeepMobile/data/inputScratches/312.png', '/home/ubuntu/DeepMobile/data/inputScratches/402.png', '/home/ubuntu/DeepMobile/data/inputScratches/585.png', '/home/ubuntu/DeepMobile/data/inputScratches/201.png', '/home/ubuntu/DeepMobile/data/inputScratches/broke-iphone-1.jpg', '/home/ubuntu/DeepMobile/data/inputScratches/57.png', '/home/ubuntu/DeepMobile/data/inputScratches/520.png', '/home/ubuntu/DeepMobile/data/inputScratches/5.jpg', '/home/ubuntu/DeepMobile/data/inputScratches/448.png', '/home/ubuntu/DeepMobile/data/inputScratches/457.png', '/home/ubuntu/DeepMobile/data/inputScratches/iPhone-6-Plus.png', '/home/ubuntu/DeepMobile/data/inputScratches/551.png', '/home/ubuntu/DeepMobile/data/inputScratches/512.png', '/home/ubuntu/DeepMobile/data/inputScratches/106.png', '/home/ubuntu/DeepMobile/data/inputScratches/196.png', '/home/ubuntu/DeepMobile/data/inputScratches/217.png', '/home/ubuntu/DeepMobile/data/inputScratches/41.png', '/home/ubuntu/DeepMobile/data/inputScratches/170.png', '/home/ubuntu/DeepMobile/data/inputScratches/225.png', '/home/ubuntu/DeepMobile/data/inputScratches/291.png', '/home/ubuntu/DeepMobile/data/inputScratches/73.png', '/home/ubuntu/DeepMobile/data/inputScratches/484.png', '/home/ubuntu/DeepMobile/data/inputScratches/326.png', '/home/ubuntu/DeepMobile/data/inputScratches/crack.jpg', '/home/ubuntu/DeepMobile/data/inputScratches/scientists-have-invented-a-smartphone-screen-material-designed-to-repair-its-own-scratches.jpg', '/home/ubuntu/DeepMobile/data/inputScratches/502.png', '/home/ubuntu/DeepMobile/data/inputScratches/257.png', '/home/ubuntu/DeepMobile/data/inputScratches/200.png', '/home/ubuntu/DeepMobile/data/inputScratches/221.png', '/home/ubuntu/DeepMobile/data/inputScratches/493.png', '/home/ubuntu/DeepMobile/data/inputScratches/657.png', '/home/ubuntu/DeepMobile/data/inputScratches/1055312_3d-crack-screen-wallpapers-google-play-store-revenue-download_1280x800_h.jpg', '/home/ubuntu/DeepMobile/data/inputScratches/361.png', '/home/ubuntu/DeepMobile/data/inputScratches/136.png', '/home/ubuntu/DeepMobile/data/inputScratches/broken-glass-very-thick-piece-crack-there-no-real-break-anymore-65447334.jpg', '/home/ubuntu/DeepMobile/data/inputScratches/original.jpeg', '/home/ubuntu/DeepMobile/data/inputScratches/497.png', '/home/ubuntu/DeepMobile/data/inputScratches/407.png', '/home/ubuntu/DeepMobile/data/inputScratches/302.png', '/home/ubuntu/DeepMobile/data/inputScratches/501.png', '/home/ubuntu/DeepMobile/data/inputScratches/474.png', '/home/ubuntu/DeepMobile/data/inputScratches/559.png', '/home/ubuntu/DeepMobile/data/inputScratches/1943845_img20141215104758_jpegf364fbb603fee1c1e58eecd27f141dbc.jpg', '/home/ubuntu/DeepMobile/data/inputScratches/533.png', '/home/ubuntu/DeepMobile/data/inputScratches/423.png', '/home/ubuntu/DeepMobile/data/inputScratches/SONY-SCRATCHED.jpg', '/home/ubuntu/DeepMobile/data/inputScratches/660.png', '/home/ubuntu/DeepMobile/data/inputScratches/483.png', '/home/ubuntu/DeepMobile/data/inputScratches/237.png', '/home/ubuntu/DeepMobile/data/inputScratches/maxresdefault1.jpg', '/home/ubuntu/DeepMobile/data/inputScratches/166.png', '/home/ubuntu/DeepMobile/data/inputScratches/178.png', '/home/ubuntu/DeepMobile/data/inputScratches/352.png', '/home/ubuntu/DeepMobile/data/inputScratches/232.png', '/home/ubuntu/DeepMobile/data/inputScratches/603.png', '/home/ubuntu/DeepMobile/data/inputScratches/60.png', '/home/ubuntu/DeepMobile/data/inputScratches/472.png', '/home/ubuntu/DeepMobile/data/inputScratches/65.png', '/home/ubuntu/DeepMobile/data/inputScratches/272.png', '/home/ubuntu/DeepMobile/data/inputScratches/383.png', '/home/ubuntu/DeepMobile/data/inputScratches/314.png', '/home/ubuntu/DeepMobile/data/inputScratches/318.png', '/home/ubuntu/DeepMobile/data/inputScratches/62.png', '/home/ubuntu/DeepMobile/data/inputScratches/475.png', '/home/ubuntu/DeepMobile/data/inputScratches/300.png', '/home/ubuntu/DeepMobile/data/inputScratches/n5oOr.jpg', '/home/ubuntu/DeepMobile/data/inputScratches/165.png', '/home/ubuntu/DeepMobile/data/inputScratches/344.png', '/home/ubuntu/DeepMobile/data/inputScratches/508.png', '/home/ubuntu/DeepMobile/data/inputScratches/230.png', '/home/ubuntu/DeepMobile/data/inputScratches/612.png', '/home/ubuntu/DeepMobile/data/inputScratches/89.png', '/home/ubuntu/DeepMobile/data/inputScratches/238.png', '/home/ubuntu/DeepMobile/data/inputScratches/429.png', '/home/ubuntu/DeepMobile/data/inputScratches/454.png', '/home/ubuntu/DeepMobile/data/inputScratches/500.png', '/home/ubuntu/DeepMobile/data/inputScratches/68.png', '/home/ubuntu/DeepMobile/data/inputScratches/223.png', '/home/ubuntu/DeepMobile/data/inputScratches/478.png', '/home/ubuntu/DeepMobile/data/inputScratches/broken-android-phones.jpg', '/home/ubuntu/DeepMobile/data/inputScratches/416.png', '/home/ubuntu/DeepMobile/data/inputScratches/72.png', '/home/ubuntu/DeepMobile/data/inputScratches/308.png', '/home/ubuntu/DeepMobile/data/inputScratches/289.png', '/home/ubuntu/DeepMobile/data/inputScratches/490.png', '/home/ubuntu/DeepMobile/data/inputScratches/421.png', '/home/ubuntu/DeepMobile/data/inputScratches/23.png', '/home/ubuntu/DeepMobile/data/inputScratches/3.png', '/home/ubuntu/DeepMobile/data/inputScratches/309.png', '/home/ubuntu/DeepMobile/data/inputScratches/569.png', '/home/ubuntu/DeepMobile/data/inputScratches/199.png', '/home/ubuntu/DeepMobile/data/inputScratches/259.png', '/home/ubuntu/DeepMobile/data/inputScratches/487.png', '/home/ubuntu/DeepMobile/data/inputScratches/171.png', '/home/ubuntu/DeepMobile/data/inputScratches/31.png', '/home/ubuntu/DeepMobile/data/inputScratches/209.png', '/home/ubuntu/DeepMobile/data/inputScratches/5ovdg4nz1kvy.jpg', '/home/ubuntu/DeepMobile/data/inputScratches/435.png', '/home/ubuntu/DeepMobile/data/inputScratches/305.png', '/home/ubuntu/DeepMobile/data/inputScratches/574.png', '/home/ubuntu/DeepMobile/data/inputScratches/21.png', '/home/ubuntu/DeepMobile/data/inputScratches/maxresdefault2.jpg', '/home/ubuntu/DeepMobile/data/inputScratches/176.png', '/home/ubuntu/DeepMobile/data/inputScratches/140.png', '/home/ubuntu/DeepMobile/data/inputScratches/315.png', '/home/ubuntu/DeepMobile/data/inputScratches/1.png', '/home/ubuntu/DeepMobile/data/inputScratches/547.png', '/home/ubuntu/DeepMobile/data/inputScratches/391.png', '/home/ubuntu/DeepMobile/data/inputScratches/iphone-6-broken-display.jpg', '/home/ubuntu/DeepMobile/data/inputScratches/182.png', '/home/ubuntu/DeepMobile/data/inputScratches/543.png', '/home/ubuntu/DeepMobile/data/inputScratches/2.png', '/home/ubuntu/DeepMobile/data/inputScratches/44.png', '/home/ubuntu/DeepMobile/data/inputScratches/439.png', '/home/ubuntu/DeepMobile/data/inputScratches/249.png', '/home/ubuntu/DeepMobile/data/inputScratches/iphone-4s-original-nacional-com-defeito-quebrado-bom-preco-D_NQ_NP_216511-MLB20584174221_022016-F.jpg', '/home/ubuntu/DeepMobile/data/inputScratches/ptj1jju3lvjazdjphweitm0l2sph6gewcvuzdta9pzikq1rk6031swacvjkuppcd-.jpg', '/home/ubuntu/DeepMobile/data/inputScratches/iPhone.png', '/home/ubuntu/DeepMobile/data/inputScratches/74.png', '/home/ubuntu/DeepMobile/data/inputScratches/341.png', '/home/ubuntu/DeepMobile/data/inputScratches/iPhone-lwdwd.jpg', '/home/ubuntu/DeepMobile/data/inputScratches/426.png', '/home/ubuntu/DeepMobile/data/inputScratches/555.png', '/home/ubuntu/DeepMobile/data/inputScratches/162.png', '/home/ubuntu/DeepMobile/data/inputScratches/393.png', '/home/ubuntu/DeepMobile/data/inputScratches/396.png', '/home/ubuntu/DeepMobile/data/inputScratches/84.png', '/home/ubuntu/DeepMobile/data/inputScratches/593.png', '/home/ubuntu/DeepMobile/data/inputScratches/5.png', '/home/ubuntu/DeepMobile/data/inputScratches/08496496b44047b8a5dce58e90810b26.jpg', '/home/ubuntu/DeepMobile/data/inputScratches/481.png', '/home/ubuntu/DeepMobile/data/inputScratches/iphone-cracked-screen.jpg', '/home/ubuntu/DeepMobile/data/inputScratches/606.png', '/home/ubuntu/DeepMobile/data/inputScratches/431.png', '/home/ubuntu/DeepMobile/data/inputScratches/596.png', '/home/ubuntu/DeepMobile/data/inputScratches/broken screen samsung.jpg', '/home/ubuntu/DeepMobile/data/inputScratches/7.png', '/home/ubuntu/DeepMobile/data/inputScratches/324039-500x333.jpg', '/home/ubuntu/DeepMobile/data/inputScratches/579.png', '/home/ubuntu/DeepMobile/data/inputScratches/642.png', '/home/ubuntu/DeepMobile/data/inputScratches/364.png', '/home/ubuntu/DeepMobile/data/inputScratches/54.png', '/home/ubuntu/DeepMobile/data/inputScratches/15.png', '/home/ubuntu/DeepMobile/data/inputScratches/125.png', '/home/ubuntu/DeepMobile/data/inputScratches/133.png', '/home/ubuntu/DeepMobile/data/inputScratches/241.png', '/home/ubuntu/DeepMobile/data/inputScratches/664.png', '/home/ubuntu/DeepMobile/data/inputScratches/cracked-screen.png', '/home/ubuntu/DeepMobile/data/inputScratches/iPhone.jpg', '/home/ubuntu/DeepMobile/data/inputScratches/577.png', '/home/ubuntu/DeepMobile/data/inputScratches/cracked-screen.jpg', '/home/ubuntu/DeepMobile/data/inputScratches/398.png', '/home/ubuntu/DeepMobile/data/inputScratches/554.png', '/home/ubuntu/DeepMobile/data/inputScratches/459.png', '/home/ubuntu/DeepMobile/data/inputScratches/453.png', '/home/ubuntu/DeepMobile/data/inputScratches/643.png', '/home/ubuntu/DeepMobile/data/inputScratches/172.png', '/home/ubuntu/DeepMobile/data/inputScratches/139.png', '/home/ubuntu/DeepMobile/data/inputScratches/193.png', '/home/ubuntu/DeepMobile/data/inputScratches/7.jpg', '/home/ubuntu/DeepMobile/data/inputScratches/653.png', '/home/ubuntu/DeepMobile/data/inputScratches/322.png', '/home/ubuntu/DeepMobile/data/inputScratches/452.png', '/home/ubuntu/DeepMobile/data/inputScratches/267.png', '/home/ubuntu/DeepMobile/data/inputScratches/527.png', '/home/ubuntu/DeepMobile/data/inputScratches/160.png', '/home/ubuntu/DeepMobile/data/inputScratches/91.png', '/home/ubuntu/DeepMobile/data/inputScratches/213.png', '/home/ubuntu/DeepMobile/data/inputScratches/39.png', '/home/ubuntu/DeepMobile/data/inputScratches/394.png', '/home/ubuntu/DeepMobile/data/inputScratches/301.png', '/home/ubuntu/DeepMobile/data/inputScratches/499.png', '/home/ubuntu/DeepMobile/data/inputScratches/506.png', '/home/ubuntu/DeepMobile/data/inputScratches/299.png', '/home/ubuntu/DeepMobile/data/inputScratches/542.png', '/home/ubuntu/DeepMobile/data/inputScratches/607.png', '/home/ubuntu/DeepMobile/data/inputScratches/601.png', '/home/ubuntu/DeepMobile/data/inputScratches/442.png', '/home/ubuntu/DeepMobile/data/inputScratches/461.png', '/home/ubuntu/DeepMobile/data/inputScratches/252.png', '/home/ubuntu/DeepMobile/data/inputScratches/53.png', '/home/ubuntu/DeepMobile/data/inputScratches/604.png', '/home/ubuntu/DeepMobile/data/inputScratches/10.png', '/home/ubuntu/DeepMobile/data/inputScratches/624.png', '/home/ubuntu/DeepMobile/data/inputScratches/375.png', '/home/ubuntu/DeepMobile/data/inputScratches/482.png', '/home/ubuntu/DeepMobile/data/inputScratches/479.png', '/home/ubuntu/DeepMobile/data/inputScratches/368.png', '/home/ubuntu/DeepMobile/data/inputScratches/599.png', '/home/ubuntu/DeepMobile/data/inputScratches/496.png', '/home/ubuntu/DeepMobile/data/inputScratches/115.png', '/home/ubuntu/DeepMobile/data/inputScratches/samsung-s9-cracked-0055.jpg', '/home/ubuntu/DeepMobile/data/inputScratches/iPhone_6_1_large.jpg', '/home/ubuntu/DeepMobile/data/inputScratches/88.png', '/home/ubuntu/DeepMobile/data/inputScratches/445.png', '/home/ubuntu/DeepMobile/data/inputScratches/466.png', '/home/ubuntu/DeepMobile/data/inputScratches/307.png', '/home/ubuntu/DeepMobile/data/inputScratches/587.png', '/home/ubuntu/DeepMobile/data/inputScratches/295.png', '/home/ubuntu/DeepMobile/data/inputScratches/332.png', '/home/ubuntu/DeepMobile/data/inputScratches/185.png', '/home/ubuntu/DeepMobile/data/inputScratches/553.png', '/home/ubuntu/DeepMobile/data/inputScratches/234.png', '/home/ubuntu/DeepMobile/data/inputScratches/608.png', '/home/ubuntu/DeepMobile/data/inputScratches/376.png', '/home/ubuntu/DeepMobile/data/inputScratches/179.png', '/home/ubuntu/DeepMobile/data/inputScratches/111.png', '/home/ubuntu/DeepMobile/data/inputScratches/AA40001012_329.jpg', '/home/ubuntu/DeepMobile/data/inputScratches/328.png', '/home/ubuntu/DeepMobile/data/inputScratches/0.png', '/home/ubuntu/DeepMobile/data/inputScratches/Broken-Phone.jpg', '/home/ubuntu/DeepMobile/data/inputScratches/450.png', '/home/ubuntu/DeepMobile/data/inputScratches/35.png', '/home/ubuntu/DeepMobile/data/inputScratches/374.png', '/home/ubuntu/DeepMobile/data/inputScratches/36.png', '/home/ubuntu/DeepMobile/data/inputScratches/331.png', '/home/ubuntu/DeepMobile/data/inputScratches/Apple-iPhone-4-with-broken-screen.jpg', '/home/ubuntu/DeepMobile/data/inputScratches/216.png', '/home/ubuntu/DeepMobile/data/inputScratches/337.png', '/home/ubuntu/DeepMobile/data/inputScratches/150.png', '/home/ubuntu/DeepMobile/data/inputScratches/460.png', '/home/ubuntu/DeepMobile/data/inputScratches/155.png', '/home/ubuntu/DeepMobile/data/inputScratches/148.png', '/home/ubuntu/DeepMobile/data/inputScratches/52.png', '/home/ubuntu/DeepMobile/data/inputScratches/522.png', '/home/ubuntu/DeepMobile/data/inputScratches/195.png', '/home/ubuntu/DeepMobile/data/inputScratches/471.png', '/home/ubuntu/DeepMobile/data/inputScratches/250.png', '/home/ubuntu/DeepMobile/data/inputScratches/83.png', '/home/ubuntu/DeepMobile/data/inputScratches/557.png', '/home/ubuntu/DeepMobile/data/inputScratches/AndroidPIT-Nexus-6P-cracked-glass-visor-1-w782.jpg', '/home/ubuntu/DeepMobile/data/inputScratches/186.png', '/home/ubuntu/DeepMobile/data/inputScratches/273.png', '/home/ubuntu/DeepMobile/data/inputScratches/377.png', '/home/ubuntu/DeepMobile/data/inputScratches/509.png', '/home/ubuntu/DeepMobile/data/inputScratches/441.png', '/home/ubuntu/DeepMobile/data/inputScratches/329.png', '/home/ubuntu/DeepMobile/data/inputScratches/662.png', '/home/ubuntu/DeepMobile/data/inputScratches/231.png', '/home/ubuntu/DeepMobile/data/inputScratches/449.png', '/home/ubuntu/DeepMobile/data/inputScratches/476.png', '/home/ubuntu/DeepMobile/data/inputScratches/338.png', '/home/ubuntu/DeepMobile/data/inputScratches/417.png', '/home/ubuntu/DeepMobile/data/inputScratches/359.png', '/home/ubuntu/DeepMobile/data/inputScratches/smartphonewithcrackedscreen-580x358.jpg', '/home/ubuntu/DeepMobile/data/inputScratches/343.png', '/home/ubuntu/DeepMobile/data/inputScratches/219.png', '/home/ubuntu/DeepMobile/data/inputScratches/173.png', '/home/ubuntu/DeepMobile/data/inputScratches/104.png', '/home/ubuntu/DeepMobile/data/inputScratches/623.png', '/home/ubuntu/DeepMobile/data/inputScratches/80bc603ac5739c5b9facdddf0454d3d5.jpg', '/home/ubuntu/DeepMobile/data/inputScratches/iphone-5s-5-display.jpg', '/home/ubuntu/DeepMobile/data/inputScratches/281.png', '/home/ubuntu/DeepMobile/data/inputScratches/324.png', '/home/ubuntu/DeepMobile/data/inputScratches/235.png', '/home/ubuntu/DeepMobile/data/inputScratches/180.png', '/home/ubuntu/DeepMobile/data/inputScratches/386.png', '/home/ubuntu/DeepMobile/data/inputScratches/566.png', '/home/ubuntu/DeepMobile/data/inputScratches/maxresdefault4.jpg', '/home/ubuntu/DeepMobile/data/inputScratches/621.png', '/home/ubuntu/DeepMobile/data/inputScratches/353.png', '/home/ubuntu/DeepMobile/data/inputScratches/275.png', '/home/ubuntu/DeepMobile/data/inputScratches/465.png', '/home/ubuntu/DeepMobile/data/inputScratches/img-screen-broken.jpg', '/home/ubuntu/DeepMobile/data/inputScratches/IMG_20170116_075859.jpg', '/home/ubuntu/DeepMobile/data/inputScratches/189.png', '/home/ubuntu/DeepMobile/data/inputScratches/19.png', '/home/ubuntu/DeepMobile/data/inputScratches/560.png', '/home/ubuntu/DeepMobile/data/inputScratches/269.png', '/home/ubuntu/DeepMobile/data/inputScratches/408.png', '/home/ubuntu/DeepMobile/data/inputScratches/243.png', '/home/ubuntu/DeepMobile/data/inputScratches/357.png', '/home/ubuntu/DeepMobile/data/inputScratches/389.png', '/home/ubuntu/DeepMobile/data/inputScratches/127.png', '/home/ubuntu/DeepMobile/data/inputScratches/494.png', '/home/ubuntu/DeepMobile/data/inputScratches/613.png', '/home/ubuntu/DeepMobile/data/inputScratches/268.png', '/home/ubuntu/DeepMobile/data/inputScratches/210.png', '/home/ubuntu/DeepMobile/data/inputScratches/1.jpg', '/home/ubuntu/DeepMobile/data/inputScratches/27.png', '/home/ubuntu/DeepMobile/data/inputScratches/395.png', '/home/ubuntu/DeepMobile/data/inputScratches/123.png', '/home/ubuntu/DeepMobile/data/inputScratches/510.png', '/home/ubuntu/DeepMobile/data/inputScratches/360.png', '/home/ubuntu/DeepMobile/data/inputScratches/397.png', '/home/ubuntu/DeepMobile/data/inputScratches/422.png', '/home/ubuntu/DeepMobile/data/inputScratches/119.png', '/home/ubuntu/DeepMobile/data/inputScratches/290.png', '/home/ubuntu/DeepMobile/data/inputScratches/143.png', '/home/ubuntu/DeepMobile/data/inputScratches/c000c1ea11e496896c410bf66f234d46.jpeg', '/home/ubuntu/DeepMobile/data/inputScratches/270.png', '/home/ubuntu/DeepMobile/data/inputScratches/iPhone-lwdwd.png', '/home/ubuntu/DeepMobile/data/inputScratches/broken screen samsung.png', '/home/ubuntu/DeepMobile/data/inputScratches/589.png', '/home/ubuntu/DeepMobile/data/inputScratches/363.png', '/home/ubuntu/DeepMobile/data/inputScratches/409.png', '/home/ubuntu/DeepMobile/data/inputScratches/broken99.jpg', '/home/ubuntu/DeepMobile/data/inputScratches/661.png', '/home/ubuntu/DeepMobile/data/inputScratches/373.png', '/home/ubuntu/DeepMobile/data/inputScratches/532.png', '/home/ubuntu/DeepMobile/data/inputScratches/401.png', '/home/ubuntu/DeepMobile/data/inputScratches/156.png', '/home/ubuntu/DeepMobile/data/inputScratches/192.png', '/home/ubuntu/DeepMobile/data/inputScratches/AA40001034_431.jpg', '/home/ubuntu/DeepMobile/data/inputScratches/319.png', '/home/ubuntu/DeepMobile/data/inputScratches/34.png', '/home/ubuntu/DeepMobile/data/inputScratches/18.png', '/home/ubuntu/DeepMobile/data/inputScratches/485.png', '/home/ubuntu/DeepMobile/data/inputScratches/294.png', '/home/ubuntu/DeepMobile/data/inputScratches/536.png', '/home/ubuntu/DeepMobile/data/inputScratches/616.png', '/home/ubuntu/DeepMobile/data/inputScratches/320.png', '/home/ubuntu/DeepMobile/data/inputScratches/588.png', '/home/ubuntu/DeepMobile/data/inputScratches/126.png', '/home/ubuntu/DeepMobile/data/inputScratches/278.png', '/home/ubuntu/DeepMobile/data/inputScratches/444.png', '/home/ubuntu/DeepMobile/data/inputScratches/615.png', '/home/ubuntu/DeepMobile/data/inputScratches/Cracked-Display.jpg', '/home/ubuntu/DeepMobile/data/inputScratches/59.png', '/home/ubuntu/DeepMobile/data/inputScratches/382.png', '/home/ubuntu/DeepMobile/data/inputScratches/124.png', '/home/ubuntu/DeepMobile/data/inputScratches/38.png', '/home/ubuntu/DeepMobile/data/inputScratches/107.png', '/home/ubuntu/DeepMobile/data/inputScratches/63.png', '/home/ubuntu/DeepMobile/data/inputScratches/571.png', '/home/ubuntu/DeepMobile/data/inputScratches/1469448881-8c2710fe4d0fcef608985bc64d0d22cc-600x894.jpg', '/home/ubuntu/DeepMobile/data/inputScratches/433.png', '/home/ubuntu/DeepMobile/data/inputScratches/436.png', '/home/ubuntu/DeepMobile/data/inputScratches/smartphone-screen-self-healing-crack.jpg', '/home/ubuntu/DeepMobile/data/inputScratches/297.png', '/home/ubuntu/DeepMobile/data/inputScratches/412.png', '/home/ubuntu/DeepMobile/data/inputScratches/491.png', '/home/ubuntu/DeepMobile/data/inputScratches/477.png', '/home/ubuntu/DeepMobile/data/inputScratches/330.png', '/home/ubuntu/DeepMobile/data/inputScratches/652.png', '/home/ubuntu/DeepMobile/data/inputScratches/387.png', '/home/ubuntu/DeepMobile/data/inputScratches/583.png', '/home/ubuntu/DeepMobile/data/inputScratches/562.png', '/home/ubuntu/DeepMobile/data/inputScratches/40.png', '/home/ubuntu/DeepMobile/data/inputScratches/miracle-material-end-cracked-smartphone-tablets.jpg', '/home/ubuntu/DeepMobile/data/inputScratches/scratched-ipad-screen.jpg', '/home/ubuntu/DeepMobile/data/inputScratches/6.jpg', '/home/ubuntu/DeepMobile/data/inputScratches/164.png', '/home/ubuntu/DeepMobile/data/inputScratches/310.png', '/home/ubuntu/DeepMobile/data/inputScratches/AA40001029_140.jpg', '/home/ubuntu/DeepMobile/data/inputScratches/279.png', '/home/ubuntu/DeepMobile/data/inputScratches/462.png', '/home/ubuntu/DeepMobile/data/inputScratches/190.png', '/home/ubuntu/DeepMobile/data/inputScratches/8.png', '/home/ubuntu/DeepMobile/data/inputScratches/138.png', '/home/ubuntu/DeepMobile/data/inputScratches/128.png', '/home/ubuntu/DeepMobile/data/inputScratches/339.png', '/home/ubuntu/DeepMobile/data/inputScratches/519.png', '/home/ubuntu/DeepMobile/data/inputScratches/168.png', '/home/ubuntu/DeepMobile/data/inputScratches/Cracked-Cellphone-Screen-400x300.jpg', '/home/ubuntu/DeepMobile/data/inputScratches/282.png', '/home/ubuntu/DeepMobile/data/inputScratches/535.png', '/home/ubuntu/DeepMobile/data/inputScratches/388.png', '/home/ubuntu/DeepMobile/data/inputScratches/cracked-iphone-back-8-cracked-cracked-iphone-8-plus-for-sale.jpg', '/home/ubuntu/DeepMobile/data/inputScratches/79.png', '/home/ubuntu/DeepMobile/data/inputScratches/564.png', '/home/ubuntu/DeepMobile/data/inputScratches/468.png', '/home/ubuntu/DeepMobile/data/inputScratches/218.png', '/home/ubuntu/DeepMobile/data/inputScratches/17.png', '/home/ubuntu/DeepMobile/data/inputScratches/220.png', '/home/ubuntu/DeepMobile/data/inputScratches/broken one x.jpg', '/home/ubuntu/DeepMobile/data/inputScratches/c000c1ea11e496896c410bf66f234d46.jpg', '/home/ubuntu/DeepMobile/data/inputScratches/206.png', '/home/ubuntu/DeepMobile/data/inputScratches/334.png', '/home/ubuntu/DeepMobile/data/inputScratches/hqdefault.jpg', '/home/ubuntu/DeepMobile/data/inputScratches/233.png', '/home/ubuntu/DeepMobile/data/inputScratches/513.png', '/home/ubuntu/DeepMobile/data/inputScratches/430.png', '/home/ubuntu/DeepMobile/data/inputScratches/541.png', '/home/ubuntu/DeepMobile/data/inputScratches/iphone-broken-flickr-per-axbom.jpg', '/home/ubuntu/DeepMobile/data/inputScratches/177.png', '/home/ubuntu/DeepMobile/data/inputScratches/214.png', '/home/ubuntu/DeepMobile/data/inputScratches/316.png', '/home/ubuntu/DeepMobile/data/inputScratches/572.png', '/home/ubuntu/DeepMobile/data/inputScratches/114.png', '/home/ubuntu/DeepMobile/data/inputScratches/619.png', '/home/ubuntu/DeepMobile/data/inputScratches/118.png', '/home/ubuntu/DeepMobile/data/inputScratches/659.png', '/home/ubuntu/DeepMobile/data/inputScratches/49.png', '/home/ubuntu/DeepMobile/data/inputScratches/151.png', '/home/ubuntu/DeepMobile/data/inputScratches/379.png', '/home/ubuntu/DeepMobile/data/inputScratches/iPhone-iPad-iPod-DIY-and-Mod-Ultimate-Guide_fixed.jpg', '/home/ubuntu/DeepMobile/data/inputScratches/469.png', '/home/ubuntu/DeepMobile/data/inputScratches/576.png', '/home/ubuntu/DeepMobile/data/inputScratches/78.png', '/home/ubuntu/DeepMobile/data/inputScratches/317.png', '/home/ubuntu/DeepMobile/data/inputScratches/277.png', '/home/ubuntu/DeepMobile/data/inputScratches/340.png', '/home/ubuntu/DeepMobile/data/inputScratches/611.png', '/home/ubuntu/DeepMobile/data/inputScratches/117.png']\n"
     ]
    }
   ],
   "source": [
    "\n",
    "TrainPath = []\n",
    "for i in range(len(path)):\n",
    "    path1 = path[i].split('_mask')\n",
    "    pathnew = path1[0] +'.'+ path1[1].split('.')[1]\n",
    "    TrainPath.append(pathnew)\n",
    "print (TrainPath)"
   ]
  },
  {
   "cell_type": "code",
   "execution_count": 16,
   "metadata": {
    "scrolled": true
   },
   "outputs": [],
   "source": [
    " def find_patches( class_num, num_patches,h,w,train_data):\n",
    "        '''\n",
    "        Helper function for sampling slices with evenly distributed classes\n",
    "        INPUT:  (1) list 'training_images': all training images to select from\n",
    "                (2) int 'class_num': class to sample from choice of {0, 1, 2, 3, 4}.\n",
    "                (3) tuple 'patch_size': dimensions of patches to be generated defaults to 65 x 65\n",
    "        OUTPUT: (1) num_samples patches from class 'class_num' randomly selected.\n",
    "        '''\n",
    "        patches, labels = [], []\n",
    "        print( 'Finding patches of class {}...'.format(class_num))\n",
    "        no = 0\n",
    "        ct = 0\n",
    "        while ct < num_patches:\n",
    "            im_path = random.choice(train_data)\n",
    "            fn = im_path.split('.')\n",
    "            label = cv.imread(fn[0]+'_mask.'+fn[1],1).astype('uint8')\n",
    "       \n",
    "            \n",
    "           \n",
    "            #zeros = np.argwhere(label>1)\n",
    "            #print(zeros.shape)\n",
    "            # resample if class_num not in selected slice\n",
    "            # while len(np.argwhere(label == class_num)) < 10:\n",
    "            #     im_path = random.choice(self.train_data)\n",
    "            #     fn = os.path.basename(im_path)\n",
    "            #     label = io.imread('Labels/' + fn[:-4] + 'L.png')\n",
    "            \n",
    "            \n",
    "            # select centerpix (p) and patch (p_ix)\n",
    "            try:\n",
    "                img = cv.imread(im_path,3).astype('uint8')\n",
    "            except(Exception):\n",
    "                continue\n",
    "            #print(img.shape)\n",
    "            try:\n",
    "                p = random.choice(np.argwhere(label == 255))\n",
    "                p_ix = (int(p[0]-(h/2)), int(p[0]+((h)/2)), int(p[1]-(w/2)), int(p[1]+((w)/2)))\n",
    "                #print ((p_ix))\n",
    "                patch = img[p_ix[0]:p_ix[1],p_ix[2]:p_ix[3],:]\n",
    "                label_patch = label[p_ix[0]:p_ix[1], p_ix[2]:p_ix[3]]\n",
    "            except(Exception):\n",
    "                continue\n",
    "            if(label_patch.shape[0]!=h or label_patch.shape[1]!=w or\n",
    "               len(np.argwhere(label_patch==255))<20000 ):\n",
    "                continue\n",
    "            # resample it patch is empty or too close to edge\n",
    "            # while patch.shape != (4, h, w) or len(np.unique(patch)) == 1:\n",
    "            #     p = random.choice(np.argwhere(label == class_num))\n",
    "            #     p_ix = (p[0]-(h/2), p[0]+((h+1)/2), p[1]-(w/2), p[1]+((w+1)/2))\n",
    "            #     patch = np.array([i[p_ix[0]:p_ix[1], p_ix[2]:p_ix[3]] for i in img])\n",
    "           \n",
    "            try:\n",
    "                io.imsave('/home/ubuntu/DeepMobile/data/scratches/test_Data/train/{}.png'.format(int(no)),patch)\n",
    "                io.imsave('/home/ubuntu/DeepMobile/data/scratches/test_Data/labels/{}.png'.format(int(no)),label_patch)\n",
    "                ct += 1\n",
    "                no +=1\n",
    "                print(no)\n",
    "            except(Exception):\n",
    "                continue\n",
    "        return np.array(patches), np.array(labels)"
   ]
  },
  {
   "cell_type": "code",
   "execution_count": 17,
   "metadata": {
    "scrolled": true
   },
   "outputs": [
    {
     "name": "stdout",
     "output_type": "stream",
     "text": [
      "Finding patches of class 0...\n",
      "1\n",
      "2\n",
      "3\n",
      "4\n",
      "5\n",
      "6\n",
      "7\n",
      "8\n",
      "9\n",
      "10\n",
      "11\n",
      "12\n",
      "13\n",
      "14\n",
      "15\n",
      "16\n",
      "17\n",
      "18\n",
      "19\n",
      "20\n",
      "21\n",
      "22\n",
      "23\n",
      "24\n",
      "25\n",
      "26\n",
      "27\n",
      "28\n",
      "29\n",
      "30\n",
      "31\n",
      "32\n",
      "33\n",
      "34\n",
      "35\n",
      "36\n",
      "37\n",
      "38\n",
      "39\n",
      "40\n",
      "41\n",
      "42\n",
      "43\n",
      "44\n",
      "45\n",
      "46\n",
      "47\n",
      "48\n",
      "49\n",
      "50\n",
      "51\n",
      "52\n",
      "53\n",
      "54\n",
      "55\n",
      "56\n",
      "57\n",
      "58\n",
      "59\n",
      "60\n",
      "61\n",
      "62\n",
      "63\n",
      "64\n",
      "65\n",
      "66\n",
      "67\n",
      "68\n",
      "69\n",
      "70\n",
      "71\n",
      "72\n",
      "73\n",
      "74\n",
      "75\n",
      "76\n",
      "77\n",
      "78\n",
      "79\n",
      "80\n",
      "81\n",
      "82\n",
      "83\n",
      "84\n",
      "85\n",
      "86\n",
      "87\n",
      "88\n",
      "89\n",
      "90\n",
      "91\n",
      "92\n",
      "93\n",
      "94\n",
      "95\n",
      "96\n",
      "97\n",
      "98\n",
      "99\n",
      "100\n",
      "101\n",
      "102\n",
      "103\n",
      "104\n",
      "105\n",
      "106\n",
      "107\n",
      "108\n",
      "109\n",
      "110\n",
      "111\n",
      "112\n",
      "113\n",
      "114\n",
      "115\n",
      "116\n",
      "117\n",
      "118\n",
      "119\n",
      "120\n"
     ]
    },
    {
     "name": "stderr",
     "output_type": "stream",
     "text": [
      "/usr/local/lib/python3.5/dist-packages/skimage/io/_io.py:132: UserWarning: /home/ubuntu/DeepMobile/data/scratches/test_Data/train/120.png is a low contrast image\n",
      "  warn('%s is a low contrast image' % fname)\n"
     ]
    },
    {
     "name": "stdout",
     "output_type": "stream",
     "text": [
      "121\n",
      "122\n",
      "123\n",
      "124\n",
      "125\n",
      "126\n",
      "127\n",
      "128\n",
      "129\n",
      "130\n",
      "131\n",
      "132\n",
      "133\n",
      "134\n",
      "135\n",
      "136\n",
      "137\n",
      "138\n",
      "139\n",
      "140\n",
      "141\n",
      "142\n",
      "143\n",
      "144\n",
      "145\n",
      "146\n"
     ]
    },
    {
     "name": "stderr",
     "output_type": "stream",
     "text": [
      "/usr/local/lib/python3.5/dist-packages/skimage/io/_io.py:132: UserWarning: /home/ubuntu/DeepMobile/data/scratches/test_Data/train/146.png is a low contrast image\n",
      "  warn('%s is a low contrast image' % fname)\n"
     ]
    },
    {
     "name": "stdout",
     "output_type": "stream",
     "text": [
      "147\n",
      "148\n",
      "149\n",
      "150\n",
      "151\n",
      "152\n",
      "153\n",
      "154\n",
      "155\n",
      "156\n",
      "157\n",
      "158\n",
      "159\n",
      "160\n",
      "161\n",
      "162\n",
      "163\n",
      "164\n",
      "165\n",
      "166\n",
      "167\n",
      "168\n",
      "169\n",
      "170\n",
      "171\n",
      "172\n",
      "173\n",
      "174\n",
      "175\n",
      "176\n",
      "177\n",
      "178\n",
      "179\n",
      "180\n",
      "181\n",
      "182\n",
      "183\n",
      "184\n",
      "185\n",
      "186\n",
      "187\n",
      "188\n",
      "189\n",
      "190\n",
      "191\n",
      "192\n",
      "193\n",
      "194\n",
      "195\n",
      "196\n",
      "197\n",
      "198\n",
      "199\n",
      "200\n"
     ]
    }
   ],
   "source": [
    "x,y = find_patches(class_num=0,h=512,w=512,train_data=TrainPath,num_patches=200)"
   ]
  },
  {
   "cell_type": "code",
   "execution_count": null,
   "metadata": {},
   "outputs": [],
   "source": [
    "img"
   ]
  },
  {
   "cell_type": "code",
   "execution_count": null,
   "metadata": {},
   "outputs": [],
   "source": [
    "np.save(arr=X,file='/home/ubuntu/MobileExtraction/Train256x324-full.npy')"
   ]
  },
  {
   "cell_type": "code",
   "execution_count": null,
   "metadata": {},
   "outputs": [],
   "source": [
    "np.save(arr=Y,file='/home/ubuntu/MobileExtraction/Labels256x324-full.npy')"
   ]
  },
  {
   "cell_type": "code",
   "execution_count": null,
   "metadata": {},
   "outputs": [],
   "source": [
    "import matplotlib.pyplot as plt\n",
    "io.imshow(train[10,:,:])\n",
    "io.show()"
   ]
  },
  {
   "cell_type": "code",
   "execution_count": null,
   "metadata": {},
   "outputs": [],
   "source": [
    "twos = np.argwhere(labels>1)\n",
    "for i in range(twos.shape[0]):\n",
    "    labels[twos[i][0],twos[i][1],twos[i][2]] = 1\n",
    "    print(i)"
   ]
  },
  {
   "cell_type": "code",
   "execution_count": null,
   "metadata": {},
   "outputs": [],
   "source": [
    "np.unique(labels)"
   ]
  },
  {
   "cell_type": "code",
   "execution_count": null,
   "metadata": {},
   "outputs": [],
   "source": [
    "train = train-np.mean(train)"
   ]
  },
  {
   "cell_type": "code",
   "execution_count": null,
   "metadata": {},
   "outputs": [],
   "source": [
    "imgs = img - np.mean(img)"
   ]
  },
  {
   "cell_type": "code",
   "execution_count": null,
   "metadata": {},
   "outputs": [],
   "source": [
    "from sklearn.decomposition import PCA \n",
    "pca = PCA(2) \n",
    "print(pca)"
   ]
  },
  {
   "cell_type": "code",
   "execution_count": null,
   "metadata": {},
   "outputs": [],
   "source": [
    "train = train.reshape(220,1024*1298)"
   ]
  },
  {
   "cell_type": "code",
   "execution_count": null,
   "metadata": {},
   "outputs": [],
   "source": [
    "from sklearn.decomposition import RandomizedPCA\n",
    "ipca = PCA(svd_solver='randomized',iterated_power=10,n_components=400) \n",
    "ipca.fit(train)\n",
    "img_c = ipca.transform(train) \n",
    "print(img_c.shape) \n",
    "print(np.sum(ipca.explained_variance_ratio_))"
   ]
  },
  {
   "cell_type": "code",
   "execution_count": null,
   "metadata": {},
   "outputs": [],
   "source": [
    "z = img_c.reshape(220,1,12)"
   ]
  },
  {
   "cell_type": "code",
   "execution_count": null,
   "metadata": {},
   "outputs": [],
   "source": [
    "io.imshow(z[7])"
   ]
  },
  {
   "cell_type": "code",
   "execution_count": null,
   "metadata": {},
   "outputs": [],
   "source": [
    "x = labels[0]"
   ]
  },
  {
   "cell_type": "code",
   "execution_count": null,
   "metadata": {},
   "outputs": [],
   "source": [
    "324*8"
   ]
  },
  {
   "cell_type": "code",
   "execution_count": null,
   "metadata": {},
   "outputs": [],
   "source": [
    "x = cv.resize(x,(2592,2048),interpolation= cv.INTER_LANCZOS4)"
   ]
  },
  {
   "cell_type": "code",
   "execution_count": null,
   "metadata": {},
   "outputs": [],
   "source": [
    "io.imshow(x)"
   ]
  },
  {
   "cell_type": "code",
   "execution_count": null,
   "metadata": {},
   "outputs": [],
   "source": [
    "x = io.imread('/home/ubuntu/Desktop/DataAnnotated2/JPEGImages/353256072631204_back.png')"
   ]
  },
  {
   "cell_type": "code",
   "execution_count": null,
   "metadata": {},
   "outputs": [],
   "source": [
    "x.shape"
   ]
  },
  {
   "cell_type": "code",
   "execution_count": null,
   "metadata": {},
   "outputs": [],
   "source": [
    "2592-2048"
   ]
  },
  {
   "cell_type": "code",
   "execution_count": null,
   "metadata": {},
   "outputs": [],
   "source": [
    "544/2\n"
   ]
  },
  {
   "cell_type": "code",
   "execution_count": null,
   "metadata": {},
   "outputs": [],
   "source": [
    "x = x[:,272:2320]"
   ]
  },
  {
   "cell_type": "code",
   "execution_count": null,
   "metadata": {},
   "outputs": [],
   "source": [
    "x.shape"
   ]
  },
  {
   "cell_type": "code",
   "execution_count": null,
   "metadata": {},
   "outputs": [],
   "source": [
    "io.imshow(x)"
   ]
  },
  {
   "cell_type": "code",
   "execution_count": null,
   "metadata": {},
   "outputs": [],
   "source": [
    "pos = np.load('/home/ubuntu/MobileExtraction/Train256x324.npy')\n",
    "neg = np.load('/home/ubuntu/MobileExtraction/Train256x324-negative.npy')\n",
    "posLabel = np.load('/home/ubuntu/MobileExtraction/Labels256x324.npy')\n",
    "negLabel = np.zeros((47,256,324))"
   ]
  },
  {
   "cell_type": "code",
   "execution_count": null,
   "metadata": {},
   "outputs": [],
   "source": [
    "def shuffle_in_unison(a, b):\n",
    "    shuffled_a = np.empty(a.shape, dtype=a.dtype)\n",
    "    shuffled_b = np.empty(b.shape, dtype=b.dtype)\n",
    "    permutation = np.random.permutation(len(a))\n",
    "    for old_index, new_index in enumerate(permutation):\n",
    "        shuffled_a[new_index] = a[old_index]\n",
    "        shuffled_b[new_index] = b[old_index]\n",
    "    return shuffled_a, shuffled_b"
   ]
  },
  {
   "cell_type": "code",
   "execution_count": null,
   "metadata": {},
   "outputs": [],
   "source": [
    "for i in range(47):\n",
    "    io.imshow(Y[347+i])\n",
    "    io.show()"
   ]
  },
  {
   "cell_type": "code",
   "execution_count": null,
   "metadata": {},
   "outputs": [],
   "source": [
    "X,Y = shuffle_in_unison(x,y)"
   ]
  },
  {
   "cell_type": "code",
   "execution_count": null,
   "metadata": {},
   "outputs": [],
   "source": [
    "x = np.empty((394,256,324)).astype('float32')\n",
    "y = np.zeros((394,256,324)).astype('uint8')"
   ]
  },
  {
   "cell_type": "code",
   "execution_count": null,
   "metadata": {},
   "outputs": [],
   "source": [
    "for i in range(47):\n",
    "    x[347+i]=neg[i]"
   ]
  },
  {
   "cell_type": "code",
   "execution_count": 7,
   "metadata": {},
   "outputs": [],
   "source": [
    "x = io.imread('/home/ubuntu/DeepMobile/data/scratches/label/label/1.png')"
   ]
  },
  {
   "cell_type": "code",
   "execution_count": 8,
   "metadata": {},
   "outputs": [
    {
     "name": "stderr",
     "output_type": "stream",
     "text": [
      "/home/ubuntu/.local/lib/python3.5/site-packages/skimage/io/_plugins/matplotlib_plugin.py:51: FutureWarning: Conversion of the second argument of issubdtype from `float` to `np.floating` is deprecated. In future, it will be treated as `np.float64 == np.dtype(float).type`.\n",
      "  out_of_range_float = (np.issubdtype(image.dtype, np.float) and\n",
      "/home/ubuntu/.local/lib/python3.5/site-packages/matplotlib/axes/_base.py:1400: MatplotlibDeprecationWarning: The 'box-forced' keyword argument is deprecated since 2.2.\n",
      "  \" since 2.2.\", cbook.mplDeprecation)\n"
     ]
    },
    {
     "data": {
      "text/plain": [
       "<matplotlib.image.AxesImage at 0x7fd71c2e9c18>"
      ]
     },
     "execution_count": 8,
     "metadata": {},
     "output_type": "execute_result"
    },
    {
     "data": {
      "image/png": "[encoded data removed]",
      "text/plain": [
       "<Figure size 432x288 with 1 Axes>"
      ]
     },
     "metadata": {},
     "output_type": "display_data"
    }
   ],
   "source": [
    "io.imshow(x)"
   ]
  },
  {
   "cell_type": "code",
   "execution_count": 10,
   "metadata": {},
   "outputs": [
    {
     "data": {
      "text/plain": [
       "0"
      ]
     },
     "execution_count": 10,
     "metadata": {},
     "output_type": "execute_result"
    }
   ],
   "source": [
    "np.min(x)"
   ]
  },
  {
   "cell_type": "code",
   "execution_count": 15,
   "metadata": {
    "scrolled": true
   },
   "outputs": [
    {
     "name": "stdout",
     "output_type": "stream",
     "text": [
      "(22680, 2)\n",
      "1\n",
      "(708, 2)\n",
      "2\n",
      "(914211, 3)\n"
     ]
    },
    {
     "name": "stderr",
     "output_type": "stream",
     "text": [
      "/usr/local/lib/python3.5/dist-packages/skimage/io/_io.py:132: UserWarning: /home/ubuntu/DeepMobile/data/scratches/TRAIN/newdatafull/1_mask.jpg is a low contrast image\n",
      "  warn('%s is a low contrast image' % fname)\n"
     ]
    },
    {
     "name": "stdout",
     "output_type": "stream",
     "text": [
      "3\n",
      "(13113490, 3)\n"
     ]
    },
    {
     "name": "stderr",
     "output_type": "stream",
     "text": [
      "/usr/local/lib/python3.5/dist-packages/skimage/io/_io.py:132: UserWarning: /home/ubuntu/DeepMobile/data/scratches/TRAIN/newdatafull/3_mask.jpg is a low contrast image\n",
      "  warn('%s is a low contrast image' % fname)\n"
     ]
    },
    {
     "name": "stdout",
     "output_type": "stream",
     "text": [
      "4\n",
      "(25904, 2)\n",
      "5\n",
      "(142518, 3)\n",
      "6\n",
      "(63841, 2)\n",
      "7\n",
      "(14214, 3)\n",
      "8\n",
      "(1121703, 3)\n"
     ]
    },
    {
     "name": "stderr",
     "output_type": "stream",
     "text": [
      "/usr/local/lib/python3.5/dist-packages/skimage/io/_io.py:132: UserWarning: /home/ubuntu/DeepMobile/data/scratches/TRAIN/newdatafull/7_mask.jpg is a low contrast image\n",
      "  warn('%s is a low contrast image' % fname)\n"
     ]
    },
    {
     "name": "stdout",
     "output_type": "stream",
     "text": [
      "9\n",
      "(392129, 2)\n",
      "10\n",
      "(78017, 2)\n",
      "11\n",
      "(2718, 3)\n",
      "12\n",
      "(4875, 2)\n",
      "13\n",
      "(1320663, 3)\n"
     ]
    },
    {
     "name": "stderr",
     "output_type": "stream",
     "text": [
      "/usr/local/lib/python3.5/dist-packages/skimage/io/_io.py:132: UserWarning: /home/ubuntu/DeepMobile/data/scratches/TRAIN/newdatafull/11_mask.jpg is a low contrast image\n",
      "  warn('%s is a low contrast image' % fname)\n",
      "/usr/local/lib/python3.5/dist-packages/skimage/io/_io.py:132: UserWarning: /home/ubuntu/DeepMobile/data/scratches/TRAIN/newdatafull/12_mask.jpg is a low contrast image\n",
      "  warn('%s is a low contrast image' % fname)\n"
     ]
    },
    {
     "name": "stdout",
     "output_type": "stream",
     "text": [
      "14\n",
      "(832608, 3)\n",
      "15\n",
      "(207141, 3)\n",
      "16\n",
      "(34131, 3)\n",
      "oops\n",
      "(669285, 3)\n",
      "17\n",
      "(227892, 3)\n",
      "18\n",
      "(32124, 3)\n",
      "19\n",
      "(104350, 2)\n",
      "20\n",
      "(22563, 3)\n",
      "oops\n",
      "(8856, 3)\n",
      "21\n",
      "(8068, 2)\n",
      "22\n",
      "(6283, 2)\n",
      "23\n",
      "(216995, 2)\n"
     ]
    },
    {
     "name": "stderr",
     "output_type": "stream",
     "text": [
      "/usr/local/lib/python3.5/dist-packages/skimage/io/_io.py:132: UserWarning: /home/ubuntu/DeepMobile/data/scratches/TRAIN/newdatafull/20_mask.jpg is a low contrast image\n",
      "  warn('%s is a low contrast image' % fname)\n"
     ]
    },
    {
     "name": "stdout",
     "output_type": "stream",
     "text": [
      "24\n",
      "(42969, 2)\n",
      "25\n",
      "(1180692, 3)\n",
      "26\n",
      "(222414, 3)\n",
      "27\n",
      "(123333, 3)\n",
      "28\n",
      "(27858, 3)\n"
     ]
    },
    {
     "name": "stderr",
     "output_type": "stream",
     "text": [
      "/usr/local/lib/python3.5/dist-packages/skimage/io/_io.py:132: UserWarning: /home/ubuntu/DeepMobile/data/scratches/TRAIN/newdatafull/28_mask.jpg is a low contrast image\n",
      "  warn('%s is a low contrast image' % fname)\n"
     ]
    },
    {
     "name": "stdout",
     "output_type": "stream",
     "text": [
      "29\n",
      "(33108, 2)\n",
      "30\n",
      "(258027, 2)\n",
      "31\n",
      "(59777, 2)\n",
      "32\n",
      "(41322, 3)\n",
      "33\n",
      "(11166, 2)\n",
      "oops\n",
      "(1290, 2)\n",
      "34\n"
     ]
    },
    {
     "name": "stderr",
     "output_type": "stream",
     "text": [
      "/usr/local/lib/python3.5/dist-packages/skimage/io/_io.py:132: UserWarning: /home/ubuntu/DeepMobile/data/scratches/TRAIN/newdatafull/33_mask.jpg is a low contrast image\n",
      "  warn('%s is a low contrast image' % fname)\n"
     ]
    },
    {
     "name": "stdout",
     "output_type": "stream",
     "text": [
      "(35506, 2)\n",
      "35\n",
      "(647760, 3)\n",
      "36\n",
      "(13982239, 3)\n"
     ]
    },
    {
     "name": "stderr",
     "output_type": "stream",
     "text": [
      "/usr/local/lib/python3.5/dist-packages/skimage/io/_io.py:132: UserWarning: /home/ubuntu/DeepMobile/data/scratches/TRAIN/newdatafull/36_mask.jpg is a low contrast image\n",
      "  warn('%s is a low contrast image' % fname)\n"
     ]
    },
    {
     "name": "stdout",
     "output_type": "stream",
     "text": [
      "37\n",
      "(2908, 2)\n"
     ]
    },
    {
     "name": "stderr",
     "output_type": "stream",
     "text": [
      "/usr/local/lib/python3.5/dist-packages/skimage/io/_io.py:132: UserWarning: /home/ubuntu/DeepMobile/data/scratches/TRAIN/newdatafull/37_mask.jpg is a low contrast image\n",
      "  warn('%s is a low contrast image' % fname)\n"
     ]
    },
    {
     "name": "stdout",
     "output_type": "stream",
     "text": [
      "38\n",
      "(45000, 3)\n"
     ]
    },
    {
     "name": "stderr",
     "output_type": "stream",
     "text": [
      "/usr/local/lib/python3.5/dist-packages/skimage/io/_io.py:132: UserWarning: /home/ubuntu/DeepMobile/data/scratches/TRAIN/newdatafull/38_mask.jpg is a low contrast image\n",
      "  warn('%s is a low contrast image' % fname)\n"
     ]
    },
    {
     "name": "stdout",
     "output_type": "stream",
     "text": [
      "39\n",
      "(36582, 3)\n",
      "40\n",
      "(9008913, 3)\n"
     ]
    },
    {
     "name": "stderr",
     "output_type": "stream",
     "text": [
      "/usr/local/lib/python3.5/dist-packages/skimage/io/_io.py:132: UserWarning: /home/ubuntu/DeepMobile/data/scratches/TRAIN/newdatafull/40_mask.jpg is a low contrast image\n",
      "  warn('%s is a low contrast image' % fname)\n"
     ]
    },
    {
     "name": "stdout",
     "output_type": "stream",
     "text": [
      "41\n",
      "(40418, 2)\n",
      "oops\n",
      "(543996, 3)\n",
      "42\n",
      "(8853, 2)\n",
      "43\n",
      "(400979, 2)\n"
     ]
    },
    {
     "name": "stderr",
     "output_type": "stream",
     "text": [
      "/usr/local/lib/python3.5/dist-packages/skimage/io/_io.py:132: UserWarning: /home/ubuntu/DeepMobile/data/scratches/TRAIN/newdatafull/42_mask.jpg is a low contrast image\n",
      "  warn('%s is a low contrast image' % fname)\n"
     ]
    },
    {
     "name": "stdout",
     "output_type": "stream",
     "text": [
      "44\n",
      "(3890, 2)\n",
      "45\n",
      "(898833, 3)\n",
      "46\n",
      "(118908, 3)\n",
      "47\n",
      "(15390, 3)\n",
      "48\n",
      "(9446, 2)\n",
      "oops\n",
      "(519303, 3)\n",
      "49\n",
      "(19641, 3)\n",
      "50\n",
      "(84495, 3)\n",
      "51\n",
      "(187984, 2)\n",
      "52\n",
      "(20364, 2)\n"
     ]
    },
    {
     "name": "stderr",
     "output_type": "stream",
     "text": [
      "/usr/local/lib/python3.5/dist-packages/skimage/io/_io.py:132: UserWarning: /home/ubuntu/DeepMobile/data/scratches/TRAIN/newdatafull/52_mask.jpg is a low contrast image\n",
      "  warn('%s is a low contrast image' % fname)\n"
     ]
    },
    {
     "name": "stdout",
     "output_type": "stream",
     "text": [
      "53\n",
      "(262431, 3)\n",
      "54\n",
      "(101028, 3)\n"
     ]
    },
    {
     "name": "stderr",
     "output_type": "stream",
     "text": [
      "/usr/local/lib/python3.5/dist-packages/skimage/io/_io.py:132: UserWarning: /home/ubuntu/DeepMobile/data/scratches/TRAIN/newdatafull/54_mask.jpg is a low contrast image\n",
      "  warn('%s is a low contrast image' % fname)\n"
     ]
    },
    {
     "name": "stdout",
     "output_type": "stream",
     "text": [
      "55\n",
      "(465534, 3)\n",
      "56\n",
      "(2652789, 3)\n"
     ]
    },
    {
     "name": "stderr",
     "output_type": "stream",
     "text": [
      "/usr/local/lib/python3.5/dist-packages/skimage/io/_io.py:132: UserWarning: /home/ubuntu/DeepMobile/data/scratches/TRAIN/newdatafull/56_mask.jpg is a low contrast image\n",
      "  warn('%s is a low contrast image' % fname)\n",
      "/usr/local/lib/python3.5/dist-packages/skimage/io/_io.py:132: UserWarning: /home/ubuntu/DeepMobile/data/scratches/TRAIN/newdatafull/57_mask.jpg is a low contrast image\n",
      "  warn('%s is a low contrast image' % fname)\n",
      "/usr/local/lib/python3.5/dist-packages/skimage/io/_io.py:132: UserWarning: /home/ubuntu/DeepMobile/data/scratches/TRAIN/newdatafull/59_mask.jpg is a low contrast image\n",
      "  warn('%s is a low contrast image' % fname)\n"
     ]
    },
    {
     "name": "stdout",
     "output_type": "stream",
     "text": [
      "57\n",
      "(6756, 3)\n",
      "58\n",
      "(37677, 2)\n",
      "59\n",
      "(9075, 3)\n",
      "60\n",
      "(247187, 2)\n",
      "61\n",
      "(31618, 2)\n",
      "62\n",
      "(23462, 2)\n"
     ]
    },
    {
     "name": "stderr",
     "output_type": "stream",
     "text": [
      "/usr/local/lib/python3.5/dist-packages/skimage/io/_io.py:132: UserWarning: /home/ubuntu/DeepMobile/data/scratches/TRAIN/newdatafull/62_mask.jpg is a low contrast image\n",
      "  warn('%s is a low contrast image' % fname)\n",
      "/usr/local/lib/python3.5/dist-packages/skimage/io/_io.py:132: UserWarning: /home/ubuntu/DeepMobile/data/scratches/TRAIN/newdatafull/64_mask.jpg is a low contrast image\n",
      "  warn('%s is a low contrast image' % fname)\n"
     ]
    },
    {
     "name": "stdout",
     "output_type": "stream",
     "text": [
      "63\n",
      "(39906, 3)\n",
      "64\n",
      "(18389, 2)\n",
      "65\n",
      "(37623, 2)\n"
     ]
    },
    {
     "name": "stderr",
     "output_type": "stream",
     "text": [
      "/usr/local/lib/python3.5/dist-packages/skimage/io/_io.py:132: UserWarning: /home/ubuntu/DeepMobile/data/scratches/TRAIN/newdatafull/65_mask.jpg is a low contrast image\n",
      "  warn('%s is a low contrast image' % fname)\n"
     ]
    },
    {
     "name": "stdout",
     "output_type": "stream",
     "text": [
      "66\n",
      "(20757, 3)\n",
      "67\n",
      "(12026563, 3)\n"
     ]
    },
    {
     "name": "stderr",
     "output_type": "stream",
     "text": [
      "/usr/local/lib/python3.5/dist-packages/skimage/io/_io.py:132: UserWarning: /home/ubuntu/DeepMobile/data/scratches/TRAIN/newdatafull/67_mask.jpg is a low contrast image\n",
      "  warn('%s is a low contrast image' % fname)\n"
     ]
    },
    {
     "name": "stdout",
     "output_type": "stream",
     "text": [
      "68\n",
      "(194061, 3)\n",
      "69\n",
      "(238674, 3)\n",
      "70\n",
      "(41046, 3)\n",
      "71\n",
      "(26936, 2)\n",
      "72\n",
      "(1127277, 3)\n",
      "73\n",
      "(25338, 2)\n",
      "74\n",
      "(53472, 2)\n",
      "75\n",
      "(92282, 2)\n",
      "76\n",
      "(12869, 2)\n",
      "77\n",
      "(33630, 3)\n",
      "78\n",
      "(964758, 3)\n",
      "79\n",
      "(271665, 3)\n",
      "80\n",
      "(65133, 3)\n",
      "81\n",
      "(4024, 2)\n",
      "82\n",
      "(5857, 2)\n",
      "83\n",
      "(28950, 3)\n",
      "84\n",
      "(2711, 2)\n",
      "oops\n",
      "(1622256, 3)\n",
      "85\n",
      "(84876, 3)\n",
      "86\n",
      "(10354054, 3)\n",
      "87\n"
     ]
    },
    {
     "name": "stderr",
     "output_type": "stream",
     "text": [
      "/usr/local/lib/python3.5/dist-packages/skimage/io/_io.py:132: UserWarning: /home/ubuntu/DeepMobile/data/scratches/TRAIN/newdatafull/86_mask.jpg is a low contrast image\n",
      "  warn('%s is a low contrast image' % fname)\n"
     ]
    }
   ],
   "source": [
    "no=0\n",
    "for i in range(len(TrainPath)):\n",
    "    im_path = TrainPath[i]\n",
    "    fn = im_path.split('.')\n",
    "    label = io.imread(fn[0]+'_mask.'+fn[1])\n",
    "    labelnew = np.zeros((label.shape[0],label.shape[1])).astype('uint8')\n",
    "    ones = np.argwhere(label==0)\n",
    "    print(ones.shape)\n",
    "    for j in range(ones.shape[0]):\n",
    "        labelnew[ones[j][0],ones[j][1]] = 255\n",
    "    try:\n",
    "        img = cv.imread(im_path,3).astype('uint8')\n",
    "    except(Exception):\n",
    "        print('oops')\n",
    "        continue\n",
    "    try:\n",
    "        io.imsave('/home/ubuntu/DeepMobile/data/scratches/TRAIN/newdatafull/{}.jpg'.format(int(no)),img)\n",
    "        io.imsave('/home/ubuntu/DeepMobile/data/scratches/TRAIN/newdatafull/{}_mask.jpg'.format(int(no)),labelnew)\n",
    "        no+=1\n",
    "        print(no)\n",
    "    except(Exception):\n",
    "        continue"
   ]
  },
  {
   "cell_type": "code",
   "execution_count": null,
   "metadata": {},
   "outputs": [],
   "source": []
  }
 ],
 "metadata": {
  "kernelspec": {
   "display_name": "Python 3",
   "language": "python",
   "name": "python3"
  },
  "language_info": {
   "codemirror_mode": {
    "name": "ipython",
    "version": 3
   },
   "file_extension": ".py",
   "mimetype": "text/x-python",
   "name": "python",
   "nbconvert_exporter": "python",
   "pygments_lexer": "ipython3",
   "version": "3.5.2"
  }
 },
 "nbformat": 4,
 "nbformat_minor": 2
}
